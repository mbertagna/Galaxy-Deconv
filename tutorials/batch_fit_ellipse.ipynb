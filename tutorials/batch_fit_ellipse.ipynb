{
 "cells": [
  {
   "cell_type": "code",
   "execution_count": null,
   "metadata": {},
   "outputs": [],
   "source": [
    "import sys\n",
    "sys.path.append('../')\n",
    "\n",
    "from utils.fit_ellipse import transform_tensor_batched, ellipse_params_batched, plot_batch_with_ellipses\n",
    "from utils.utils_data import get_dataloader\n",
    "import matplotlib.pyplot as plt"
   ]
  },
  {
   "cell_type": "code",
   "execution_count": null,
   "metadata": {},
   "outputs": [],
   "source": [
    "data_path='/home/michaelbertagna/git/Galaxy-Deconv/simulated_datasets/LSST_23.5_deconv'\n",
    "train_val_split=0.8\n",
    "batch_size=32\n",
    "train_loader, val_loader = get_dataloader(data_path=data_path, train=True, train_val_split=train_val_split, batch_size=batch_size)"
   ]
  },
  {
   "cell_type": "code",
   "execution_count": null,
   "metadata": {},
   "outputs": [],
   "source": [
    "for idx, ((obs, psf, alpha), gt) in enumerate(train_loader):\n",
    "    fig, axes = plot_batch_with_ellipses(gt, ellipse_params_batched(transform_tensor_batched(gt)))\n",
    "    plt.show()\n",
    "    fig, axes = plot_batch_with_ellipses(obs, ellipse_params_batched(transform_tensor_batched(obs)))\n",
    "    plt.show()"
   ]
  }
 ],
 "metadata": {
  "kernelspec": {
   "display_name": "Galaxy-Deconv.env",
   "language": "python",
   "name": "python3"
  },
  "language_info": {
   "codemirror_mode": {
    "name": "ipython",
    "version": 3
   },
   "file_extension": ".py",
   "mimetype": "text/x-python",
   "name": "python",
   "nbconvert_exporter": "python",
   "pygments_lexer": "ipython3",
   "version": "3.11.8"
  }
 },
 "nbformat": 4,
 "nbformat_minor": 2
}
